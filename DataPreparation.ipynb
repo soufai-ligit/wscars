{
 "cells": [
  {
   "cell_type": "code",
   "execution_count": 11,
   "metadata": {},
   "outputs": [],
   "source": [
    "import pandas as pd"
   ]
  },
  {
   "cell_type": "code",
   "execution_count": 46,
   "metadata": {},
   "outputs": [
    {
     "name": "stdout",
     "output_type": "stream",
     "text": [
      "5807\n",
      "339\n",
      "5807\n",
      "339\n"
     ]
    }
   ],
   "source": [
    "# read the RT and TP files\n",
    "rtDataWithContext = pd.read_csv(\"HresponseTimeWithContext.csv\", header=0, index_col=0)\n",
    "tpDataWithContext = pd.read_csv(\"HthroughputWithContext.csv\", header=0, index_col=0)\n",
    "\n",
    "rtDataWithContext.head()\n",
    "\n",
    "rt_indices = rtDataWithContext.index.tolist()\n",
    "tp_indices = rtDataWithContext.index.tolist()\n",
    "\n",
    "rt_columns = rtDataWithContext.columns.tolist()\n",
    "tp_columns = rtDataWithContext.columns.tolist()\n",
    "\n",
    "rt_values = rtDataWithContext.values.flatten().tolist()\n",
    "tp_values = tpDataWithContext.values.flatten().tolist()\n",
    "\n",
    "rt_indices_full = [ i for i in rt_indices for r in range(len(rt_columns)) ]\n",
    "tp_indices_full = [ i for i in tp_indices for r in range(len(tp_columns)) ]\n",
    "\n",
    "rt_columns_full = rt_columns * len(rt_indices)\n",
    "tp_columns_full = tp_columns * len(tp_indices)\n",
    "\n",
    "ARformated_rt_data = pd.DataFrame()\n",
    "ARformated_rt_data['UserID'] = rt_indices_full\n",
    "ARformated_rt_data['ServiceID'] = rt_columns_full\n",
    "ARformated_rt_data['RT'] = rt_values\n",
    "\n",
    "ARformated_tp_data = pd.DataFrame()\n",
    "ARformated_tp_data['UserID'] = tp_indices_full\n",
    "ARformated_tp_data['ServiceID'] = tp_columns_full\n",
    "ARformated_tp_data['TP'] = tp_values\n",
    "\n",
    "print(len(ARformated_rt_data['ServiceID'].unique()))\n",
    "print(len(ARformated_rt_data['UserID'].unique()))\n",
    "print(len(ARformated_tp_data['ServiceID'].unique()))\n",
    "print(len(ARformated_tp_data['UserID'].unique()))"
   ]
  },
  {
   "cell_type": "code",
   "execution_count": 50,
   "metadata": {},
   "outputs": [],
   "source": [
    "ARformated_rt_data.dropna(axis=0, inplace=True)\n",
    "ARformated_tp_data.dropna(axis=0, inplace=True)"
   ]
  },
  {
   "cell_type": "code",
   "execution_count": 51,
   "metadata": {},
   "outputs": [
    {
     "name": "stdout",
     "output_type": "stream",
     "text": [
      "5807\n",
      "339\n",
      "5807\n",
      "339\n"
     ]
    }
   ],
   "source": [
    "print(len(ARformated_rt_data['ServiceID'].unique()))\n",
    "print(len(ARformated_rt_data['UserID'].unique()))\n",
    "print(len(ARformated_tp_data['ServiceID'].unique()))\n",
    "print(len(ARformated_tp_data['UserID'].unique()))"
   ]
  },
  {
   "cell_type": "code",
   "execution_count": 52,
   "metadata": {},
   "outputs": [],
   "source": [
    "ARformated_rt_data.to_csv(r'AR_responseTimeWithContext.csv', float_format='%.3f', index=False, header=False)\n",
    "ARformated_tp_data.to_csv(r'AR_throughputWithContext.csv', float_format='%.3f', index=False, header=False)"
   ]
  },
  {
   "cell_type": "code",
   "execution_count": null,
   "metadata": {},
   "outputs": [],
   "source": []
  }
 ],
 "metadata": {
  "kernelspec": {
   "display_name": "Python 3",
   "language": "python",
   "name": "python3"
  },
  "language_info": {
   "codemirror_mode": {
    "name": "ipython",
    "version": 3
   },
   "file_extension": ".py",
   "mimetype": "text/x-python",
   "name": "python",
   "nbconvert_exporter": "python",
   "pygments_lexer": "ipython3",
   "version": "3.7.6"
  }
 },
 "nbformat": 4,
 "nbformat_minor": 4
}
